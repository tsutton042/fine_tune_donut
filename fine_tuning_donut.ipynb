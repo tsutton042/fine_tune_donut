{
 "cells": [
  {
   "cell_type": "markdown",
   "id": "7bcd4bff",
   "metadata": {},
   "source": [
    "# Fine-tuning DONUT on the SROIE dataset\n",
    "##### Using https://www.philschmid.de/fine-tuning-donut as a reference (and some code-theft), but I want to do a few extra things, plus allowing it to happen on a system with no GPUs\n"
   ]
  },
  {
   "cell_type": "code",
   "execution_count": 1,
   "id": "ff83cb6c",
   "metadata": {},
   "outputs": [],
   "source": [
    "import sentencepiece\n",
    "import tensorboard\n",
    "import torch\n",
    "import os\n",
    "import json\n",
    "from pathlib import Path\n",
    "import random\n",
    "from PIL import Image\n",
    "import numpy as np\n",
    "from tqdm import tqdm\n",
    "import matplotlib.pyplot as plt\n",
    "from train_functions import train_model\n",
    "from transformers import (\n",
    "    DonutProcessor,\n",
    "    VisionEncoderDecoderModel\n",
    ")"
   ]
  },
  {
   "cell_type": "code",
   "execution_count": 2,
   "id": "5f4db731",
   "metadata": {},
   "outputs": [],
   "source": [
    "base_path = Path(\"ICDAR-2019-SROIE/data\")\n",
    "resolution = (720//2, 960//2)"
   ]
  },
  {
   "cell_type": "markdown",
   "id": "825447e8",
   "metadata": {},
   "source": [
    "### Load and process dataset"
   ]
  },
  {
   "cell_type": "code",
   "execution_count": 3,
   "id": "2366efcb",
   "metadata": {},
   "outputs": [],
   "source": [
    "task_start_token = \"<s>\"  # start of task token\n",
    "eos_token = r\"</s>\" # eos token of tokenizer\n",
    "sep = r\"</s>\"\n",
    "max_length = 512  # significantly smaller than the model's max length, but makes it easier on the processor"
   ]
  },
  {
   "cell_type": "code",
   "execution_count": 4,
   "id": "5b213ef8",
   "metadata": {},
   "outputs": [],
   "source": [
    " def json2token(text_json, special_token_list):\n",
    "    \"\"\"\n",
    "    Processes a single entry of the dataset into a string format that DONUT can process\n",
    "    \"\"\"\n",
    "    assert type(text_json) == dict, f\"text_json is of type {type(text_json)}, expected dict\"\n",
    "    output = []  # create list and join at end to avoid memory issues\n",
    "    for k, v in text_json.items():\n",
    "        # start the sequence\n",
    "        output.append(fr\"<s_{k}>\")\n",
    "        # test if the value is a key\n",
    "        value = str(v)\n",
    "        value = f\"<{value}/>\" if f\"<{value}/>\" in special_token_list else value\n",
    "        output.append(value)\n",
    "        # terminate the sequence\n",
    "        output.append(fr\"</s_{k}>\")\n",
    "    return \"\".join(output)"
   ]
  },
  {
   "cell_type": "code",
   "execution_count": 5,
   "id": "a08f0003",
   "metadata": {},
   "outputs": [],
   "source": [
    "def split_dataset(directory, seed=None, train_portion=0.7, val_portion=0.1):\n",
    "    \"\"\"\n",
    "    Splits the data into a train-val-test split\n",
    "    \"\"\"\n",
    "    image_fps = os.listdir(f\"{directory}/key\")\n",
    "    ids = [nm[:-5] for nm in image_fps]  # remove the suffix \".json\"\n",
    "    # partition randomly\n",
    "    rng = np.random.default_rng(seed)\n",
    "    rng.shuffle(ids)\n",
    "    train_end = int(train_portion*len(ids))\n",
    "    val_end = int(val_portion*len(ids)) + train_end\n",
    "    # deal with the edge case that the dataset is too small\n",
    "    assert train_end < len(ids), \"Train portion overshoots end of data\"\n",
    "    assert val_end < len(ids), \"Val portion overshoots end of data\"\n",
    "    train_ids, val_ids, test_ids = ids[:train_end], ids[train_end:val_end], ids[val_end:]\n",
    "    return train_ids, val_ids, test_ids"
   ]
  },
  {
   "cell_type": "code",
   "execution_count": 6,
   "id": "2ba593e5",
   "metadata": {},
   "outputs": [],
   "source": [
    "# make a custom dataset because loading all images into RAM at once tends to crash my machine\n",
    "class SROIEDataset(torch.utils.data.Dataset):\n",
    "    \"\"\"\n",
    "    Loads the SROIE dataset into a format that DONUT understands\n",
    "    \"\"\"\n",
    "    def __init__(self, id_list, base_dir):\n",
    "        self.ids = id_list\n",
    "        self.base_dir = os.path.abspath(base_dir)\n",
    "        self.special_tokens = []\n",
    "        self.__load_special_tokens()\n",
    "        \n",
    "    def __getitem__(self, idx):\n",
    "        # backloading the effort like this MAY make training slow - but it should mean it can be done on a potato\n",
    "        record_id = self.ids[idx]\n",
    "        # load image\n",
    "        image = Image.open(f\"{self.base_dir}/img/{record_id}.jpg\").convert(\"RGB\")\n",
    "        # get text as a json object\n",
    "        with open(f\"{self.base_dir}/key/{record_id}.json\") as f:\n",
    "            text = json.load(f)\n",
    "        # now parse the json as a donut-parseable string\n",
    "        donut_target = task_start_token + json2token(text, self.special_tokens) + eos_token\n",
    "        # bounding boxes - not extracted as DONUT is OCR-free (but could load for a model like LayoutLM)\n",
    "        return {\"image\": image, \"text\": donut_target}\n",
    "    \n",
    "    def __len__(self):\n",
    "        return len(self.ids) \n",
    "    \n",
    "    def __load_special_tokens(self):\n",
    "        for item in self.ids:\n",
    "            with open(f\"{self.base_dir}/key/{item}.json\") as f:\n",
    "                keys = json.load(f).keys()\n",
    "            for k in keys:\n",
    "                if fr\"<s_{k}>\" not in self.special_tokens: # potentially slow\n",
    "                    self.special_tokens.extend([fr\"<s_{k}>\" for k in keys])\n",
    "                    self.special_tokens.extend([fr\"</s_{k}>\" for k in keys])"
   ]
  },
  {
   "cell_type": "code",
   "execution_count": 7,
   "id": "f39af48c",
   "metadata": {},
   "outputs": [],
   "source": [
    "train_ids, val_ids, test_ids = split_dataset(base_path, seed = 42)"
   ]
  },
  {
   "cell_type": "code",
   "execution_count": 8,
   "id": "b63414bd",
   "metadata": {},
   "outputs": [],
   "source": [
    "train_dataset = SROIEDataset(train_ids, base_path)\n",
    "val_dataset = SROIEDataset(val_ids, base_path)\n",
    "test_dataset = SROIEDataset(test_ids, base_path)"
   ]
  },
  {
   "cell_type": "markdown",
   "id": "f88104e6",
   "metadata": {},
   "source": [
    "#### Test that the dataset class works"
   ]
  },
  {
   "cell_type": "code",
   "execution_count": 9,
   "id": "b6c94126",
   "metadata": {
    "scrolled": true
   },
   "outputs": [
    {
     "data": {
      "text/plain": [
       "{'image': <PIL.Image.Image image mode=RGB size=928x2130 at 0x29B29CA4280>,\n",
       " 'text': '<s><s_company>AEON CO. (M) BHD</s_company><s_date>19/02/2018</s_date><s_address>3RD FLR, AEON TAMAN MALURI SC JLN JEJAKA, TAMAN MALURI CHERAS, 55100 KUALA LUMPUR</s_address><s_total>17.70</s_total></s>'}"
      ]
     },
     "execution_count": 9,
     "metadata": {},
     "output_type": "execute_result"
    }
   ],
   "source": [
    "train_dataset[0]"
   ]
  },
  {
   "cell_type": "code",
   "execution_count": 10,
   "id": "44ee5028",
   "metadata": {},
   "outputs": [
    {
     "data": {
      "image/png": "[encoded data removed]",
      "text/plain": [
       "<PIL.Image.Image image mode=RGB size=209x480 at 0x29B10D584F0>"
      ]
     },
     "execution_count": 10,
     "metadata": {},
     "output_type": "execute_result"
    }
   ],
   "source": [
    "tmp = train_dataset[0][\"image\"]\n",
    "tmp.thumbnail(resolution)\n",
    "tmp"
   ]
  },
  {
   "cell_type": "code",
   "execution_count": 11,
   "id": "c48142f6",
   "metadata": {},
   "outputs": [
    {
     "data": {
      "text/plain": [
       "'<s><s_company>AEON CO. (M) BHD</s_company><s_date>19/02/2018</s_date><s_address>3RD FLR, AEON TAMAN MALURI SC JLN JEJAKA, TAMAN MALURI CHERAS, 55100 KUALA LUMPUR</s_address><s_total>17.70</s_total></s>'"
      ]
     },
     "execution_count": 11,
     "metadata": {},
     "output_type": "execute_result"
    }
   ],
   "source": [
    "train_dataset[0][\"text\"]"
   ]
  },
  {
   "cell_type": "markdown",
   "id": "f8470cdc",
   "metadata": {},
   "source": [
    "So we've successfully processed the dict into a string that donut understands"
   ]
  },
  {
   "cell_type": "code",
   "execution_count": 12,
   "id": "0cc0aa93",
   "metadata": {},
   "outputs": [
    {
     "data": {
      "text/plain": [
       "['<s_company>',\n",
       " '<s_date>',\n",
       " '<s_address>',\n",
       " '<s_total>',\n",
       " '</s_company>',\n",
       " '</s_date>',\n",
       " '</s_address>',\n",
       " '</s_total>']"
      ]
     },
     "execution_count": 12,
     "metadata": {},
     "output_type": "execute_result"
    }
   ],
   "source": [
    "train_dataset.special_tokens"
   ]
  },
  {
   "cell_type": "markdown",
   "id": "860cb681",
   "metadata": {},
   "source": [
    "### Edit model & tokeniser ready for training"
   ]
  },
  {
   "cell_type": "code",
   "execution_count": 13,
   "id": "a43daadf",
   "metadata": {},
   "outputs": [
    {
     "name": "stderr",
     "output_type": "stream",
     "text": [
      "Could not find image processor class in the image processor config or the model config. Loading based on pattern matching with the model's feature extractor configuration.\n"
     ]
    }
   ],
   "source": [
    "# make the tokeniser do the right stuff\n",
    "processor = DonutProcessor.from_pretrained(\"naver-clova-ix/donut-base\")"
   ]
  },
  {
   "cell_type": "code",
   "execution_count": 14,
   "id": "0a3cdaff",
   "metadata": {},
   "outputs": [
    {
     "data": {
      "text/plain": [
       "8"
      ]
     },
     "execution_count": 14,
     "metadata": {},
     "output_type": "execute_result"
    }
   ],
   "source": [
    "# add new special tokens to tokenizer\n",
    "processor.tokenizer.add_special_tokens({\"additional_special_tokens\": train_dataset.special_tokens + \n",
    "                                        [task_start_token, eos_token]})"
   ]
  },
  {
   "cell_type": "code",
   "execution_count": 15,
   "id": "7213b861",
   "metadata": {},
   "outputs": [],
   "source": [
    "processor.image_processor.size = resolution\n",
    "processor.image_processor.do_align_long_axis = False"
   ]
  },
  {
   "cell_type": "code",
   "execution_count": 16,
   "id": "487be4ea",
   "metadata": {
    "scrolled": true
   },
   "outputs": [],
   "source": [
    "# test on our test image - embed and tokenise\n",
    "output_img = processor(train_dataset[0][\"image\"], return_tensors=\"pt\")\n",
    "pixel_values = output_img[\"pixel_values\"]"
   ]
  },
  {
   "cell_type": "code",
   "execution_count": 17,
   "id": "334630b7",
   "metadata": {},
   "outputs": [],
   "source": [
    "output_tokens = processor.tokenizer(\n",
    "    train_dataset[0][\"text\"],\n",
    "    add_special_tokens=False,\n",
    "    max_length=max_length,\n",
    "    padding=\"max_length\",\n",
    "    truncation=True,\n",
    "    return_tensors=\"pt\",\n",
    ")[\"input_ids\"]"
   ]
  },
  {
   "cell_type": "code",
   "execution_count": 18,
   "id": "e82da880",
   "metadata": {},
   "outputs": [
    {
     "data": {
      "text/plain": [
       "(torch.Size([1, 3, 480, 360]), torch.Size([1, 512]))"
      ]
     },
     "execution_count": 18,
     "metadata": {},
     "output_type": "execute_result"
    }
   ],
   "source": [
    "# check the shape of the tensors\n",
    "pixel_values.shape, output_tokens.shape"
   ]
  },
  {
   "cell_type": "markdown",
   "id": "d468f438",
   "metadata": {},
   "source": [
    "These are currently batched - we may need to squeeze out the extra dim on the tokeniser output, but overal looks good\n",
    "\n",
    "Unfortunately, the current dataset isn't ready to be trained on - easiest solution is to wrap it into another dataset. But first, we check what the untrained model does"
   ]
  },
  {
   "cell_type": "markdown",
   "id": "75c165b3",
   "metadata": {},
   "source": [
    "We will manually run through one pass of the predict part of a training loop to make sure the model trains properly below"
   ]
  },
  {
   "cell_type": "code",
   "execution_count": 19,
   "id": "bd35be34",
   "metadata": {},
   "outputs": [],
   "source": [
    "model = VisionEncoderDecoderModel.from_pretrained(\"naver-clova-ix/donut-base\")"
   ]
  },
  {
   "cell_type": "code",
   "execution_count": 20,
   "id": "8cb0f71e",
   "metadata": {},
   "outputs": [
    {
     "data": {
      "text/plain": [
       "(360, 480)"
      ]
     },
     "execution_count": 20,
     "metadata": {},
     "output_type": "execute_result"
    }
   ],
   "source": [
    "processor.image_processor.size"
   ]
  },
  {
   "cell_type": "code",
   "execution_count": 21,
   "id": "dcd412b8",
   "metadata": {},
   "outputs": [
    {
     "name": "stderr",
     "output_type": "stream",
     "text": [
      "You are resizing the embedding layer without providing a `pad_to_multiple_of` parameter. This means that the new embeding dimension will be 57533. This might induce some performance reduction as *Tensor Cores* will not be available. For more details  about this, or help on choosing the correct value for resizing, refer to this guide: https://docs.nvidia.com/deeplearning/performance/dl-performance-matrix-multiplication/index.html#requirements-tc\n"
     ]
    },
    {
     "name": "stdout",
     "output_type": "stream",
     "text": [
      "New embedding size: Embedding(57533, 1024)\n"
     ]
    }
   ],
   "source": [
    "# ignore the warning - CPU only\n",
    "new_emb = model.decoder.resize_token_embeddings(len(processor.tokenizer))\n",
    "print(f\"New embedding size: {new_emb}\")\n",
    "# Adjust our image size and output sequence lengths\n",
    "model.config.encoder.image_size = resolution\n",
    "model.config.decoder.max_length = 1  # test value only - we reset this later\n",
    "# Add task token for decoder to start\n",
    "model.config.pad_token_id = processor.tokenizer.pad_token_id\n",
    "model.config.decoder_start_token_id = processor.tokenizer.convert_tokens_to_ids(['<s>'])[0]"
   ]
  },
  {
   "cell_type": "code",
   "execution_count": 22,
   "id": "d6d194de",
   "metadata": {},
   "outputs": [],
   "source": [
    "task_embedding = processor.tokenizer(\n",
    "    \"<parsing>\",\n",
    "    add_special_tokens=False,\n",
    "    max_length=max_length,\n",
    "    padding=\"max_length\",\n",
    "    truncation=True,\n",
    "    return_tensors=\"pt\",\n",
    ")"
   ]
  },
  {
   "cell_type": "code",
   "execution_count": 23,
   "id": "2f9704db",
   "metadata": {},
   "outputs": [],
   "source": [
    "with torch.no_grad():\n",
    "    embeds = model.forward(pixel_values, decoder_input_ids = task_embedding[\"input_ids\"])"
   ]
  },
  {
   "cell_type": "code",
   "execution_count": 24,
   "id": "5acf7a70",
   "metadata": {},
   "outputs": [],
   "source": [
    "# manual decoding\n",
    "vocab_dict = processor.tokenizer.get_vocab()\n",
    "vocab_lookup = {v:k for k,v in vocab_dict.items()}"
   ]
  },
  {
   "cell_type": "code",
   "execution_count": 25,
   "id": "4118c4a2",
   "metadata": {},
   "outputs": [],
   "source": [
    "# most likely token at each step for sanity checking - effecively greedy decoding\n",
    "most_probable_tokens = embeds.logits.softmax(dim=2).argmax(dim=2).squeeze(0)"
   ]
  },
  {
   "cell_type": "code",
   "execution_count": 26,
   "id": "88ae1d2b",
   "metadata": {},
   "outputs": [
    {
     "data": {
      "text/plain": [
       "'>>▁<><unk><unk>▁▁▁▁▁▁▁▁▁▁▁▁▁▁▁▁▁▁▁▁▁▁▁▁▁▁▁▁▁▁▁▁▁▁▁▁▁▁▁▁▁▁▁▁▁▁▁▁▁▁▁▁▁▁▁▁▁▁▁▁▁▁▁▁▁▁▁▁▁▁▁▁▁▁▁▁▁▁▁▁▁▁▁▁▁▁▁▁▁▁▁▁▁▁▁▁▁▁▁▁▁▁▁▁▁▁▁▁▁▁▁▁▁▁▁▁▁▁▁▁▁▁▁▁▁▁▁▁▁▁▁▁▁▁▁▁▁▁▁▁▁▁▁▁▁▁▁▁▁▁▁▁▁▁▁▁▁▁▁▁▁▁▁▁▁▁▁▁▁▁▁▁▁▁▁▁▁▁▁▁▁▁▁▁▁▁▁▁▁▁▁▁▁▁▁▁▁▁▁▁▁▁▁▁▁▁▁▁▁▁▁▁▁▁▁▁▁▁▁▁▁▁▁▁▁▁▁▁▁▁▁▁▁▁▁▁▁▁▁▁▁▁▁▁▁▁▁▁▁▁▁▁▁,▁▁▁▁▁▁▁▁,▁▁▁▁▁▁▁▁,▁▁▁▁,▁▁▁,▁▁,▁▁,▁▁▁,▁,▁▁▁▁,,,,▁,▁▁▁,▁▁▁▁▁▁▁▁▁▁▁▁▁▁▁▁▁▁▁▁▁▁▁▁▁▁▁▁▁▁▁▁▁▁▁▁▁▁▁▁▁▁▁▁▁▁▁▁▁▁▁▁▁▁▁▁▁▁▁▁▁▁▁▁▁▁▁▁▁▁▁▁▁▁▁▁▁▁▁▁▁▁▁▁▁▁▁▁▁▁▁▁▁▁▁▁▁▁▁▁▁▁▁▁▁▁▁▁▁▁▁▁▁>>▁>>>▁>>>▁>>>▁▁>▁,>>▁,,▁>>,,▁▁▁▁▁▁▁▁▁▁▁▁▁▁▁▁▁▁▁▁▁▁▁▁▁▁▁▁▁▁<unk>▁▁▁▁<unk>▁▁▁▁<unk>▁,<unk><unk><unk><unk>▁▁<unk>,<unk>,<unk><unk>▁<unk>'"
      ]
     },
     "execution_count": 26,
     "metadata": {},
     "output_type": "execute_result"
    }
   ],
   "source": [
    "# manually decode, just to ensure that the model is functioning properly\n",
    "decoded = [vocab_lookup[token.item()] for token in most_probable_tokens]\n",
    "\"\".join(decoded) # this seems wrong.... but model is also not trained yet"
   ]
  },
  {
   "cell_type": "code",
   "execution_count": 27,
   "id": "f6fdbd22",
   "metadata": {},
   "outputs": [
    {
     "data": {
      "text/plain": [
       "'>><><unk><unk>,,,,,,,,,,,,,,,>>>>>>>>>>>>,>>,,>>,,<unk><unk><unk>,<unk><unk><unk><unk><unk>,<unk>,<unk><unk><unk>'"
      ]
     },
     "execution_count": 27,
     "metadata": {},
     "output_type": "execute_result"
    }
   ],
   "source": [
    "\"\".join(processor.batch_decode(most_probable_tokens)) # so \"_\" is a blank token, and not an underscore"
   ]
  },
  {
   "cell_type": "markdown",
   "id": "0d22ed22",
   "metadata": {},
   "source": [
    "This is.... not promising - but it predicts end-to-end, so we move on"
   ]
  },
  {
   "cell_type": "markdown",
   "id": "62c96a0c",
   "metadata": {},
   "source": [
    "### Prepare for training"
   ]
  },
  {
   "cell_type": "markdown",
   "id": "6d88323d",
   "metadata": {},
   "source": [
    "The previous dataset does not return encoded data, but it would be nice if it did - so nest the dataset in another dataset to make the training code nicer"
   ]
  },
  {
   "cell_type": "code",
   "execution_count": 28,
   "id": "89882a5d",
   "metadata": {},
   "outputs": [],
   "source": [
    "class DonutDataset(torch.utils.data.Dataset):\n",
    "    def __init__(self, dataset, processor):\n",
    "        self.dataset = dataset\n",
    "        self.processor = processor\n",
    "        # set the processor parameters\n",
    "        self.processor.image_processor.size = resolution  # downsize for performance\n",
    "        self.processor.image_processor.do_align_long_axis = False\n",
    "        self.processor.tokenizer.add_special_tokens({\n",
    "            \"additional_special_tokens\": self.dataset.special_tokens + \n",
    "                                        [task_start_token, eos_token]})\n",
    "        # get the task embedding\n",
    "        self.task_embedding = self.processor.tokenizer(\n",
    "            \"<parsing>\",\n",
    "            add_special_tokens=False,\n",
    "            max_length=max_length,\n",
    "            padding=\"max_length\",\n",
    "            truncation=True,\n",
    "            return_tensors=\"pt\",\n",
    "        )[\"input_ids\"].squeeze(0)  # resize for batching\n",
    "    \n",
    "    def __getitem__(self, idx):\n",
    "        data = self.dataset[idx]\n",
    "        # process the dataset\n",
    "        proc_img = processor(\n",
    "            data[\"image\"], \n",
    "            return_tensors=\"pt\"\n",
    "        )[\"pixel_values\"]\n",
    "        proc_tokens = processor.tokenizer(\n",
    "            data[\"text\"],\n",
    "            add_special_tokens=False,\n",
    "            max_length=max_length,\n",
    "            padding=\"max_length\",\n",
    "            truncation=True,\n",
    "            return_tensors=\"pt\",\n",
    "        )[\"input_ids\"]\n",
    "        # resize for batching\n",
    "        proc_img = proc_img.squeeze(0)\n",
    "        proc_tokens = proc_tokens.squeeze(0)\n",
    "        data_dict = {\n",
    "            \"pixel_values\": proc_img,\n",
    "            \"decoder_input_ids\": self.task_embedding, \n",
    "            \"labels\": proc_tokens\n",
    "        }\n",
    "        return data_dict\n",
    "        \n",
    "    def __len__(self):\n",
    "        return len(self.dataset)"
   ]
  },
  {
   "cell_type": "markdown",
   "id": "832202ea",
   "metadata": {},
   "source": [
    "For a quick sanity check, make sure that the dataset will plug into the model as expected"
   ]
  },
  {
   "cell_type": "code",
   "execution_count": 29,
   "id": "b2cb2765",
   "metadata": {},
   "outputs": [],
   "source": [
    "test_ds = DonutDataset(train_dataset, processor)"
   ]
  },
  {
   "cell_type": "code",
   "execution_count": 30,
   "id": "89c5a024",
   "metadata": {},
   "outputs": [],
   "source": [
    "# test that the dataset is structured correctly\n",
    "test_example = test_ds[0]\n",
    "# rebatch the dataset\n",
    "for k in test_example.keys():\n",
    "    test_example[k] = test_example[k].unsqueeze(0)\n",
    "\n",
    "with torch.no_grad():\n",
    "    embeds = model.forward(**test_example)"
   ]
  },
  {
   "cell_type": "code",
   "execution_count": 31,
   "id": "66632cb4",
   "metadata": {},
   "outputs": [
    {
     "data": {
      "text/plain": [
       "(tensor(30.7548), torch.Size([1, 512, 57533]))"
      ]
     },
     "execution_count": 31,
     "metadata": {},
     "output_type": "execute_result"
    }
   ],
   "source": [
    "# do these seem reasonable?\n",
    "embeds.loss, embeds.logits.shape"
   ]
  },
  {
   "cell_type": "markdown",
   "id": "4dc8bece",
   "metadata": {},
   "source": [
    "I'm convinced enough by the above results:\n",
    "* The loss is extremely poor (as we've seen through manual inspection); and\n",
    "* The logits are of the right shape (batch_size, max_length (or context length), vocab_size)"
   ]
  },
  {
   "cell_type": "markdown",
   "id": "2950a3b0",
   "metadata": {},
   "source": [
    "### Fine tune the model"
   ]
  },
  {
   "cell_type": "code",
   "execution_count": 32,
   "id": "b19956e6",
   "metadata": {},
   "outputs": [],
   "source": [
    "train_donut_ds = DonutDataset(train_dataset, processor)\n",
    "val_donut_ds = DonutDataset(val_dataset, processor)\n",
    "\n",
    "train_loader = torch.utils.data.DataLoader(train_donut_ds, batch_size=1, shuffle=True)\n",
    "val_loader = torch.utils.data.DataLoader(val_donut_ds, batch_size=1, shuffle=True)"
   ]
  },
  {
   "cell_type": "code",
   "execution_count": 33,
   "id": "5040142e",
   "metadata": {},
   "outputs": [],
   "source": [
    "optim_params = {\n",
    "    \"lr\": 2e-5,\n",
    "    \"weight_decay\": 1e-2,\n",
    "}"
   ]
  },
  {
   "cell_type": "code",
   "execution_count": 34,
   "id": "03cd1703",
   "metadata": {},
   "outputs": [],
   "source": [
    "adamw = torch.optim.AdamW(\n",
    "    model.parameters(),\n",
    "    **optim_params\n",
    ")"
   ]
  },
  {
   "cell_type": "code",
   "execution_count": 35,
   "id": "179e877b",
   "metadata": {},
   "outputs": [
    {
     "name": "stdout",
     "output_type": "stream",
     "text": [
      "================================================================================\n"
     ]
    },
    {
     "name": "stderr",
     "output_type": "stream",
     "text": [
      "126it [33:32, 15.97s/it]\n"
     ]
    },
    {
     "ename": "RuntimeError",
     "evalue": "[enforce fail at C:\\actions-runner\\_work\\pytorch\\pytorch\\builder\\windows\\pytorch\\c10\\core\\impl\\alloc_cpu.cpp:72] data. DefaultCPUAllocator: not enough memory: you tried to allocate 235655168 bytes.",
     "output_type": "error",
     "traceback": [
      "\u001b[1;31m---------------------------------------------------------------------------\u001b[0m",
      "\u001b[1;31mRuntimeError\u001b[0m                              Traceback (most recent call last)",
      "\u001b[1;32m~\\AppData\\Local\\Temp/ipykernel_11284/211081556.py\u001b[0m in \u001b[0;36m<module>\u001b[1;34m\u001b[0m\n\u001b[1;32m----> 1\u001b[1;33m train_model(model, \n\u001b[0m\u001b[0;32m      2\u001b[0m             \u001b[0mtrain_loader\u001b[0m\u001b[1;33m,\u001b[0m\u001b[1;33m\u001b[0m\u001b[1;33m\u001b[0m\u001b[0m\n\u001b[0;32m      3\u001b[0m             \u001b[0madamw\u001b[0m\u001b[1;33m,\u001b[0m\u001b[1;33m\u001b[0m\u001b[1;33m\u001b[0m\u001b[0m\n\u001b[0;32m      4\u001b[0m             val_loader)\n",
      "\u001b[1;32m~\\Documents\\job_search_git_repos\\fine_tune_donut\\train_functions.py\u001b[0m in \u001b[0;36mtrain_model\u001b[1;34m(model, train_loader, optimiser, val_loader, n_epochs)\u001b[0m\n\u001b[0;32m     97\u001b[0m     \u001b[1;32mfor\u001b[0m \u001b[0mepoch\u001b[0m \u001b[1;32min\u001b[0m \u001b[0mrange\u001b[0m\u001b[1;33m(\u001b[0m\u001b[0mn_epochs\u001b[0m\u001b[1;33m)\u001b[0m\u001b[1;33m:\u001b[0m\u001b[1;33m\u001b[0m\u001b[1;33m\u001b[0m\u001b[0m\n\u001b[0;32m     98\u001b[0m         \u001b[0mprint\u001b[0m\u001b[1;33m(\u001b[0m\u001b[1;34m\"=\"\u001b[0m\u001b[1;33m*\u001b[0m\u001b[1;36m80\u001b[0m\u001b[1;33m)\u001b[0m\u001b[1;33m\u001b[0m\u001b[1;33m\u001b[0m\u001b[0m\n\u001b[1;32m---> 99\u001b[1;33m         \u001b[0mtrain_metrics\u001b[0m \u001b[1;33m=\u001b[0m \u001b[0mdo_train_epoch\u001b[0m\u001b[1;33m(\u001b[0m\u001b[0mmodel\u001b[0m\u001b[1;33m,\u001b[0m \u001b[0mtrain_loader\u001b[0m\u001b[1;33m,\u001b[0m \u001b[0moptimiser\u001b[0m\u001b[1;33m)\u001b[0m\u001b[1;33m\u001b[0m\u001b[1;33m\u001b[0m\u001b[0m\n\u001b[0m\u001b[0;32m    100\u001b[0m         \u001b[1;31m# create the summary string\u001b[0m\u001b[1;33m\u001b[0m\u001b[1;33m\u001b[0m\u001b[0m\n\u001b[0;32m    101\u001b[0m         \u001b[0msummary\u001b[0m \u001b[1;33m=\u001b[0m \u001b[1;34mf\"Epoch {epoch} train \"\u001b[0m \u001b[1;33m+\u001b[0m \u001b[0msummary_string\u001b[0m\u001b[1;33m(\u001b[0m\u001b[0mtrain_metrics\u001b[0m\u001b[1;33m)\u001b[0m\u001b[1;33m\u001b[0m\u001b[1;33m\u001b[0m\u001b[0m\n",
      "\u001b[1;32m~\\Documents\\job_search_git_repos\\fine_tune_donut\\train_functions.py\u001b[0m in \u001b[0;36mdo_train_epoch\u001b[1;34m(model, dataloader, opt)\u001b[0m\n\u001b[0;32m     40\u001b[0m             \u001b[1;32mdel\u001b[0m \u001b[0membeds\u001b[0m  \u001b[1;31m# free up redundant memory\u001b[0m\u001b[1;33m\u001b[0m\u001b[1;33m\u001b[0m\u001b[0m\n\u001b[0;32m     41\u001b[0m             \u001b[1;31m# do backwards pass\u001b[0m\u001b[1;33m\u001b[0m\u001b[1;33m\u001b[0m\u001b[0m\n\u001b[1;32m---> 42\u001b[1;33m             \u001b[0mbatch_loss\u001b[0m\u001b[1;33m.\u001b[0m\u001b[0mbackward\u001b[0m\u001b[1;33m(\u001b[0m\u001b[1;33m)\u001b[0m\u001b[1;33m\u001b[0m\u001b[1;33m\u001b[0m\u001b[0m\n\u001b[0m\u001b[0;32m     43\u001b[0m             \u001b[0mopt\u001b[0m\u001b[1;33m.\u001b[0m\u001b[0mstep\u001b[0m\u001b[1;33m(\u001b[0m\u001b[1;33m)\u001b[0m\u001b[1;33m\u001b[0m\u001b[1;33m\u001b[0m\u001b[0m\n\u001b[0;32m     44\u001b[0m         \u001b[1;31m# update epoch values\u001b[0m\u001b[1;33m\u001b[0m\u001b[1;33m\u001b[0m\u001b[0m\n",
      "\u001b[1;32mC:\\ProgramData\\Anaconda3\\lib\\site-packages\\torch\\_tensor.py\u001b[0m in \u001b[0;36mbackward\u001b[1;34m(self, gradient, retain_graph, create_graph, inputs)\u001b[0m\n\u001b[0;32m    485\u001b[0m                 \u001b[0minputs\u001b[0m\u001b[1;33m=\u001b[0m\u001b[0minputs\u001b[0m\u001b[1;33m,\u001b[0m\u001b[1;33m\u001b[0m\u001b[1;33m\u001b[0m\u001b[0m\n\u001b[0;32m    486\u001b[0m             )\n\u001b[1;32m--> 487\u001b[1;33m         torch.autograd.backward(\n\u001b[0m\u001b[0;32m    488\u001b[0m             \u001b[0mself\u001b[0m\u001b[1;33m,\u001b[0m \u001b[0mgradient\u001b[0m\u001b[1;33m,\u001b[0m \u001b[0mretain_graph\u001b[0m\u001b[1;33m,\u001b[0m \u001b[0mcreate_graph\u001b[0m\u001b[1;33m,\u001b[0m \u001b[0minputs\u001b[0m\u001b[1;33m=\u001b[0m\u001b[0minputs\u001b[0m\u001b[1;33m\u001b[0m\u001b[1;33m\u001b[0m\u001b[0m\n\u001b[0;32m    489\u001b[0m         )\n",
      "\u001b[1;32mC:\\ProgramData\\Anaconda3\\lib\\site-packages\\torch\\autograd\\__init__.py\u001b[0m in \u001b[0;36mbackward\u001b[1;34m(tensors, grad_tensors, retain_graph, create_graph, grad_variables, inputs)\u001b[0m\n\u001b[0;32m    198\u001b[0m     \u001b[1;31m# some Python versions print out the first line of a multi-line function\u001b[0m\u001b[1;33m\u001b[0m\u001b[1;33m\u001b[0m\u001b[0m\n\u001b[0;32m    199\u001b[0m     \u001b[1;31m# calls in the traceback and some print out the last line\u001b[0m\u001b[1;33m\u001b[0m\u001b[1;33m\u001b[0m\u001b[0m\n\u001b[1;32m--> 200\u001b[1;33m     Variable._execution_engine.run_backward(  # Calls into the C++ engine to run the backward pass\n\u001b[0m\u001b[0;32m    201\u001b[0m         \u001b[0mtensors\u001b[0m\u001b[1;33m,\u001b[0m \u001b[0mgrad_tensors_\u001b[0m\u001b[1;33m,\u001b[0m \u001b[0mretain_graph\u001b[0m\u001b[1;33m,\u001b[0m \u001b[0mcreate_graph\u001b[0m\u001b[1;33m,\u001b[0m \u001b[0minputs\u001b[0m\u001b[1;33m,\u001b[0m\u001b[1;33m\u001b[0m\u001b[1;33m\u001b[0m\u001b[0m\n\u001b[0;32m    202\u001b[0m         allow_unreachable=True, accumulate_grad=True)  # Calls into the C++ engine to run the backward pass\n",
      "\u001b[1;31mRuntimeError\u001b[0m: [enforce fail at C:\\actions-runner\\_work\\pytorch\\pytorch\\builder\\windows\\pytorch\\c10\\core\\impl\\alloc_cpu.cpp:72] data. DefaultCPUAllocator: not enough memory: you tried to allocate 235655168 bytes."
     ]
    }
   ],
   "source": [
    "train_model(model, \n",
    "            train_loader, \n",
    "            adamw, \n",
    "            val_loader)"
   ]
  },
  {
   "cell_type": "code",
   "execution_count": null,
   "id": "22f9a0cb",
   "metadata": {},
   "outputs": [],
   "source": []
  }
 ],
 "metadata": {
  "kernelspec": {
   "display_name": "Python 3 (ipykernel)",
   "language": "python",
   "name": "python3"
  },
  "language_info": {
   "codemirror_mode": {
    "name": "ipython",
    "version": 3
   },
   "file_extension": ".py",
   "mimetype": "text/x-python",
   "name": "python",
   "nbconvert_exporter": "python",
   "pygments_lexer": "ipython3",
   "version": "3.9.7"
  }
 },
 "nbformat": 4,
 "nbformat_minor": 5
}
