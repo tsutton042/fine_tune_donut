{
 "cells": [
  {
   "cell_type": "markdown",
   "id": "7bcd4bff",
   "metadata": {},
   "source": [
    "# Fine-tuning DONUT on the SROIE dataset\n",
    "##### Using https://www.philschmid.de/fine-tuning-donut as a reference (and some code-theft), but I want to do a few extra things, plus allowing it to happen on a system with no GPUs\n"
   ]
  },
  {
   "cell_type": "code",
   "execution_count": 1,
   "id": "ff83cb6c",
   "metadata": {},
   "outputs": [],
   "source": [
    "import sentencepiece\n",
    "import tensorboard\n",
    "import torch\n",
    "import os\n",
    "import json\n",
    "from pathlib import Path\n",
    "import shutil\n",
    "from datasets import load_dataset\n",
    "import random\n",
    "from PIL import Image\n",
    "import numpy as np\n",
    "import matplotlib.pyplot as plt\n",
    "from transformers import (\n",
    "    DonutProcessor,\n",
    "    VisionEncoderDecoderModel\n",
    ")"
   ]
  },
  {
   "cell_type": "code",
   "execution_count": 2,
   "id": "5f4db731",
   "metadata": {},
   "outputs": [],
   "source": [
    "base_path = Path(\"ICDAR-2019-SROIE/data\")"
   ]
  },
  {
   "cell_type": "markdown",
   "id": "825447e8",
   "metadata": {},
   "source": [
    "### Load and process dataset"
   ]
  },
  {
   "cell_type": "code",
   "execution_count": 3,
   "id": "2366efcb",
   "metadata": {},
   "outputs": [],
   "source": [
    "task_start_token = \"<s>\"  # start of task token\n",
    "eos_token = r\"</s>\" # eos token of tokenizer\n",
    "sep = r\"</s>\"\n",
    "max_length = 512  # significantly smaller than the model's max length, but makes it easier on the processor"
   ]
  },
  {
   "cell_type": "code",
   "execution_count": 4,
   "id": "5b213ef8",
   "metadata": {},
   "outputs": [],
   "source": [
    " def json2token(text_json, special_token_list):\n",
    "    \"\"\"\n",
    "    Processes a single entry of the dataset into a string format that DONUT can process\n",
    "    \"\"\"\n",
    "    assert type(text_json) == dict, f\"text_json is of type {type(text_json)}, expected dict\"\n",
    "    output = []  # create list and join at end to avoid memory issues\n",
    "    for k, v in text_json.items():\n",
    "        # start the sequence\n",
    "        output.append(fr\"<s_{k}>\")\n",
    "        # test if the value is a key\n",
    "        value = str(v)\n",
    "        value = f\"<{value}/>\" if f\"<{value}/>\" in special_token_list else value\n",
    "        output.append(value)\n",
    "        # terminate the sequence\n",
    "        output.append(fr\"</s_{k}>\")\n",
    "    return \"\".join(output)"
   ]
  },
  {
   "cell_type": "code",
   "execution_count": 5,
   "id": "a08f0003",
   "metadata": {},
   "outputs": [],
   "source": [
    "def split_dataset(directory, seed=None, train_portion=0.7, val_portion=0.1):\n",
    "    \"\"\"\n",
    "    Splits the data into a train-val-test split\n",
    "    \"\"\"\n",
    "    image_fps = os.listdir(f\"{directory}/key\")\n",
    "    ids = [nm[:-5] for nm in image_fps]  # remove the suffix \".json\"\n",
    "    # partition randomly\n",
    "    rng = np.random.default_rng(seed)\n",
    "    rng.shuffle(ids)\n",
    "    train_end = int(train_portion*len(ids))\n",
    "    val_end = int(val_portion*len(ids)) + train_end\n",
    "    # deal with the edge case that the dataset is too small\n",
    "    assert train_end < len(ids), \"Train portion overshoots end of data\"\n",
    "    assert val_end < len(ids), \"Val portion overshoots end of data\"\n",
    "    train_ids, val_ids, test_ids = ids[:train_end], ids[train_end:val_end], ids[val_end:]\n",
    "    return train_ids, val_ids, test_ids"
   ]
  },
  {
   "cell_type": "code",
   "execution_count": 6,
   "id": "2ba593e5",
   "metadata": {},
   "outputs": [],
   "source": [
    "# make a custom dataset because loading all images into RAM at once tends to crash my machine\n",
    "class SROIEDataset(torch.utils.data.Dataset):\n",
    "    \"\"\"\n",
    "    Loads the SROIE dataset into a format that DONUT understands\n",
    "    \"\"\"\n",
    "    def __init__(self, id_list, base_dir):\n",
    "        self.ids = id_list\n",
    "        self.base_dir = os.path.abspath(base_dir)\n",
    "        self.special_tokens = []\n",
    "        self.__load_special_tokens()\n",
    "        \n",
    "    def __getitem__(self, idx):\n",
    "        # backloading the effort like this MAY make training slow - but it should mean it can be done on a potato\n",
    "        record_id = self.ids[idx]\n",
    "        # load image\n",
    "        image = Image.open(f\"{self.base_dir}/img/{record_id}.jpg\").convert(\"RGB\")\n",
    "        # image.thumbnail((250,400)) # downscale for reduced load\n",
    "        # get text as a json object\n",
    "        with open(f\"{self.base_dir}/key/{record_id}.json\") as f:\n",
    "            text = json.load(f)\n",
    "        # now parse the json as a donut-parseable string\n",
    "        donut_target = task_start_token + json2token(text, self.special_tokens) + eos_token\n",
    "        # bounding boxes - not extracted as DONUT is OCR-free (but could load for a model like LayoutLM)\n",
    "        return {\"image\": image, \"text\": donut_target}\n",
    "    \n",
    "    def __len__(self):\n",
    "        return len(self.ids) \n",
    "    \n",
    "    def __load_special_tokens(self):\n",
    "        for item in self.ids:\n",
    "            with open(f\"{self.base_dir}/key/{item}.json\") as f:\n",
    "                keys = json.load(f).keys()\n",
    "            for k in keys:\n",
    "                if fr\"<s_{k}>\" not in self.special_tokens: # potentially slow\n",
    "                    self.special_tokens.extend([fr\"<s_{k}>\" for k in keys])\n",
    "                    self.special_tokens.extend([fr\"</s_{k}>\" for k in keys])"
   ]
  },
  {
   "cell_type": "code",
   "execution_count": 7,
   "id": "f39af48c",
   "metadata": {},
   "outputs": [],
   "source": [
    "train_ids, val_ids, test_ids = split_dataset(base_path, seed = 42)"
   ]
  },
  {
   "cell_type": "code",
   "execution_count": 8,
   "id": "b63414bd",
   "metadata": {},
   "outputs": [],
   "source": [
    "train_dataset = SROIEDataset(train_ids, base_path)\n",
    "val_dataset = SROIEDataset(val_ids, base_path)\n",
    "val_dataset = SROIEDataset(val_ids, base_path)"
   ]
  },
  {
   "cell_type": "markdown",
   "id": "f88104e6",
   "metadata": {},
   "source": [
    "#### Test that the dataset class works"
   ]
  },
  {
   "cell_type": "code",
   "execution_count": 9,
   "id": "b6c94126",
   "metadata": {
    "scrolled": true
   },
   "outputs": [
    {
     "data": {
      "text/plain": [
       "{'image': <PIL.Image.Image image mode=RGB size=928x2130 at 0x20FD5935880>,\n",
       " 'text': '<s><s_company>AEON CO. (M) BHD</s_company><s_date>19/02/2018</s_date><s_address>3RD FLR, AEON TAMAN MALURI SC JLN JEJAKA, TAMAN MALURI CHERAS, 55100 KUALA LUMPUR</s_address><s_total>17.70</s_total></s>'}"
      ]
     },
     "execution_count": 9,
     "metadata": {},
     "output_type": "execute_result"
    }
   ],
   "source": [
    "train_dataset[0]"
   ]
  },
  {
   "cell_type": "code",
   "execution_count": 10,
   "id": "44ee5028",
   "metadata": {},
   "outputs": [
    {
     "data": {
      "image/png": "[encoded data removed]",
      "text/plain": [
       "<PIL.Image.Image image mode=RGB size=174x400 at 0x20FD5935B50>"
      ]
     },
     "execution_count": 10,
     "metadata": {},
     "output_type": "execute_result"
    }
   ],
   "source": [
    "tmp = train_dataset[0][\"image\"]\n",
    "tmp.thumbnail((250,400))\n",
    "tmp"
   ]
  },
  {
   "cell_type": "code",
   "execution_count": 11,
   "id": "c48142f6",
   "metadata": {},
   "outputs": [
    {
     "data": {
      "text/plain": [
       "'<s><s_company>AEON CO. (M) BHD</s_company><s_date>19/02/2018</s_date><s_address>3RD FLR, AEON TAMAN MALURI SC JLN JEJAKA, TAMAN MALURI CHERAS, 55100 KUALA LUMPUR</s_address><s_total>17.70</s_total></s>'"
      ]
     },
     "execution_count": 11,
     "metadata": {},
     "output_type": "execute_result"
    }
   ],
   "source": [
    "train_dataset[0][\"text\"]"
   ]
  },
  {
   "cell_type": "markdown",
   "id": "f8470cdc",
   "metadata": {},
   "source": [
    "So we've successfully processed the dict into a string that donut understands"
   ]
  },
  {
   "cell_type": "code",
   "execution_count": 12,
   "id": "0cc0aa93",
   "metadata": {},
   "outputs": [
    {
     "data": {
      "text/plain": [
       "['<s_company>',\n",
       " '<s_date>',\n",
       " '<s_address>',\n",
       " '<s_total>',\n",
       " '</s_company>',\n",
       " '</s_date>',\n",
       " '</s_address>',\n",
       " '</s_total>']"
      ]
     },
     "execution_count": 12,
     "metadata": {},
     "output_type": "execute_result"
    }
   ],
   "source": [
    "train_dataset.special_tokens"
   ]
  },
  {
   "cell_type": "markdown",
   "id": "860cb681",
   "metadata": {},
   "source": [
    "### Edit model & tokeniser ready for training"
   ]
  },
  {
   "cell_type": "code",
   "execution_count": 13,
   "id": "a43daadf",
   "metadata": {},
   "outputs": [
    {
     "name": "stderr",
     "output_type": "stream",
     "text": [
      "Could not find image processor class in the image processor config or the model config. Loading based on pattern matching with the model's feature extractor configuration.\n"
     ]
    }
   ],
   "source": [
    "# make the tokeniser do the right stuff\n",
    "processor = DonutProcessor.from_pretrained(\"naver-clova-ix/donut-base\")"
   ]
  },
  {
   "cell_type": "code",
   "execution_count": 14,
   "id": "0a3cdaff",
   "metadata": {},
   "outputs": [
    {
     "data": {
      "text/plain": [
       "8"
      ]
     },
     "execution_count": 14,
     "metadata": {},
     "output_type": "execute_result"
    }
   ],
   "source": [
    "# add new special tokens to tokenizer\n",
    "processor.tokenizer.add_special_tokens({\"additional_special_tokens\": train_dataset.special_tokens + \n",
    "                                        [task_start_token, eos_token]})"
   ]
  },
  {
   "cell_type": "code",
   "execution_count": 15,
   "id": "7213b861",
   "metadata": {},
   "outputs": [],
   "source": [
    "processor.image_processor.size = (720, 960)\n",
    "processor.image_processor.do_align_long_axis = False"
   ]
  },
  {
   "cell_type": "code",
   "execution_count": 16,
   "id": "487be4ea",
   "metadata": {
    "scrolled": true
   },
   "outputs": [
    {
     "data": {
      "text/plain": [
       "({'pixel_values': [array([[[-1., -1., -1., ..., -1., -1., -1.],\n",
       "         [-1., -1., -1., ..., -1., -1., -1.],\n",
       "         [-1., -1., -1., ..., -1., -1., -1.],\n",
       "         ...,\n",
       "         [-1., -1., -1., ..., -1., -1., -1.],\n",
       "         [-1., -1., -1., ..., -1., -1., -1.],\n",
       "         [-1., -1., -1., ..., -1., -1., -1.]],\n",
       " \n",
       "        [[-1., -1., -1., ..., -1., -1., -1.],\n",
       "         [-1., -1., -1., ..., -1., -1., -1.],\n",
       "         [-1., -1., -1., ..., -1., -1., -1.],\n",
       "         ...,\n",
       "         [-1., -1., -1., ..., -1., -1., -1.],\n",
       "         [-1., -1., -1., ..., -1., -1., -1.],\n",
       "         [-1., -1., -1., ..., -1., -1., -1.]],\n",
       " \n",
       "        [[-1., -1., -1., ..., -1., -1., -1.],\n",
       "         [-1., -1., -1., ..., -1., -1., -1.],\n",
       "         [-1., -1., -1., ..., -1., -1., -1.],\n",
       "         ...,\n",
       "         [-1., -1., -1., ..., -1., -1., -1.],\n",
       "         [-1., -1., -1., ..., -1., -1., -1.],\n",
       "         [-1., -1., -1., ..., -1., -1., -1.]]], dtype=float32)]},\n",
       " (3, 960, 720))"
      ]
     },
     "execution_count": 16,
     "metadata": {},
     "output_type": "execute_result"
    }
   ],
   "source": [
    "# test on our test image\n",
    "output_img = processor(train_dataset[0][\"image\"])\n",
    "output_img, output_img[\"pixel_values\"][0].shape"
   ]
  },
  {
   "cell_type": "markdown",
   "id": "1acff0e6",
   "metadata": {},
   "source": [
    "Why does it output a numpy array?? In a list?? Not sure. Nevertheless, cast to a tensor"
   ]
  },
  {
   "cell_type": "code",
   "execution_count": 17,
   "id": "cdb1b0b7",
   "metadata": {},
   "outputs": [],
   "source": [
    "pixel_values = torch.Tensor(output_img[\"pixel_values\"][0])"
   ]
  },
  {
   "cell_type": "code",
   "execution_count": 18,
   "id": "334630b7",
   "metadata": {},
   "outputs": [
    {
     "data": {
      "text/plain": [
       "(tensor([[    0, 57525, 50591, 13031, 52867, 39539,  9744, 45964, 11938, 37127,\n",
       "          14706, 57529, 57526, 56273, 47106, 56344, 47106, 17012, 57530, 57527,\n",
       "           9066, 39807, 47312,  1338, 35815, 50591, 13031,  7447,  9604, 42990,\n",
       "           3724, 41806, 17610, 52744, 52685, 17698,  9170, 39084, 35815,  7447,\n",
       "           9604, 42990,  3724, 41806, 42990, 42615, 35488, 35815, 42520, 37930,\n",
       "          54885, 21515, 37276,  4778, 48859, 57531, 57528, 49435, 45384, 57532,\n",
       "              2,     1,     1,     1,     1,     1,     1,     1,     1,     1,\n",
       "              1,     1,     1,     1,     1,     1,     1,     1,     1,     1,\n",
       "              1,     1,     1,     1,     1,     1,     1,     1,     1,     1,\n",
       "              1,     1,     1,     1,     1,     1,     1,     1,     1,     1,\n",
       "              1,     1,     1,     1,     1,     1,     1,     1,     1,     1,\n",
       "              1,     1,     1,     1,     1,     1,     1,     1,     1,     1,\n",
       "              1,     1,     1,     1,     1,     1,     1,     1,     1,     1,\n",
       "              1,     1,     1,     1,     1,     1,     1,     1,     1,     1,\n",
       "              1,     1,     1,     1,     1,     1,     1,     1,     1,     1,\n",
       "              1,     1,     1,     1,     1,     1,     1,     1,     1,     1,\n",
       "              1,     1,     1,     1,     1,     1,     1,     1,     1,     1,\n",
       "              1,     1,     1,     1,     1,     1,     1,     1,     1,     1,\n",
       "              1,     1,     1,     1,     1,     1,     1,     1,     1,     1,\n",
       "              1,     1,     1,     1,     1,     1,     1,     1,     1,     1,\n",
       "              1,     1,     1,     1,     1,     1,     1,     1,     1,     1,\n",
       "              1,     1,     1,     1,     1,     1,     1,     1,     1,     1,\n",
       "              1,     1,     1,     1,     1,     1,     1,     1,     1,     1,\n",
       "              1,     1,     1,     1,     1,     1,     1,     1,     1,     1,\n",
       "              1,     1,     1,     1,     1,     1,     1,     1,     1,     1,\n",
       "              1,     1,     1,     1,     1,     1,     1,     1,     1,     1,\n",
       "              1,     1,     1,     1,     1,     1,     1,     1,     1,     1,\n",
       "              1,     1,     1,     1,     1,     1,     1,     1,     1,     1,\n",
       "              1,     1,     1,     1,     1,     1,     1,     1,     1,     1,\n",
       "              1,     1,     1,     1,     1,     1,     1,     1,     1,     1,\n",
       "              1,     1,     1,     1,     1,     1,     1,     1,     1,     1,\n",
       "              1,     1,     1,     1,     1,     1,     1,     1,     1,     1,\n",
       "              1,     1,     1,     1,     1,     1,     1,     1,     1,     1,\n",
       "              1,     1,     1,     1,     1,     1,     1,     1,     1,     1,\n",
       "              1,     1,     1,     1,     1,     1,     1,     1,     1,     1,\n",
       "              1,     1,     1,     1,     1,     1,     1,     1,     1,     1,\n",
       "              1,     1,     1,     1,     1,     1,     1,     1,     1,     1,\n",
       "              1,     1,     1,     1,     1,     1,     1,     1,     1,     1,\n",
       "              1,     1,     1,     1,     1,     1,     1,     1,     1,     1,\n",
       "              1,     1,     1,     1,     1,     1,     1,     1,     1,     1,\n",
       "              1,     1,     1,     1,     1,     1,     1,     1,     1,     1,\n",
       "              1,     1,     1,     1,     1,     1,     1,     1,     1,     1,\n",
       "              1,     1,     1,     1,     1,     1,     1,     1,     1,     1,\n",
       "              1,     1,     1,     1,     1,     1,     1,     1,     1,     1,\n",
       "              1,     1,     1,     1,     1,     1,     1,     1,     1,     1,\n",
       "              1,     1,     1,     1,     1,     1,     1,     1,     1,     1,\n",
       "              1,     1,     1,     1,     1,     1,     1,     1,     1,     1,\n",
       "              1,     1,     1,     1,     1,     1,     1,     1,     1,     1,\n",
       "              1,     1,     1,     1,     1,     1,     1,     1,     1,     1,\n",
       "              1,     1,     1,     1,     1,     1,     1,     1,     1,     1,\n",
       "              1,     1,     1,     1,     1,     1,     1,     1,     1,     1,\n",
       "              1,     1]]),\n",
       " torch.Size([1, 512]))"
      ]
     },
     "execution_count": 18,
     "metadata": {},
     "output_type": "execute_result"
    }
   ],
   "source": [
    "output_tokens = processor.tokenizer(\n",
    "    train_dataset[0][\"text\"],\n",
    "    add_special_tokens=False,\n",
    "    max_length=max_length,\n",
    "    padding=\"max_length\",\n",
    "    truncation=True,\n",
    "    return_tensors=\"pt\",\n",
    ")\n",
    "output_tokens[\"input_ids\"], output_tokens[\"input_ids\"].shape"
   ]
  },
  {
   "cell_type": "markdown",
   "id": "d468f438",
   "metadata": {},
   "source": [
    "We may need to squeeze out the extra dim on the tokeniser output - but overal looks good\n",
    "\n",
    "Unfortunately, the current dataset isn't ready to be trained on - easiest solution is to wrap it into another dataset. But first, we check what the untrained model does"
   ]
  },
  {
   "cell_type": "code",
   "execution_count": 19,
   "id": "bd35be34",
   "metadata": {},
   "outputs": [],
   "source": [
    "model = VisionEncoderDecoderModel.from_pretrained(\"naver-clova-ix/donut-base\")"
   ]
  },
  {
   "cell_type": "code",
   "execution_count": 20,
   "id": "8cb0f71e",
   "metadata": {},
   "outputs": [
    {
     "data": {
      "text/plain": [
       "(720, 960)"
      ]
     },
     "execution_count": 20,
     "metadata": {},
     "output_type": "execute_result"
    }
   ],
   "source": [
    "processor.image_processor.size"
   ]
  },
  {
   "cell_type": "code",
   "execution_count": 21,
   "id": "dcd412b8",
   "metadata": {},
   "outputs": [
    {
     "name": "stderr",
     "output_type": "stream",
     "text": [
      "You are resizing the embedding layer without providing a `pad_to_multiple_of` parameter. This means that the new embeding dimension will be 57533. This might induce some performance reduction as *Tensor Cores* will not be available. For more details  about this, or help on choosing the correct value for resizing, refer to this guide: https://docs.nvidia.com/deeplearning/performance/dl-performance-matrix-multiplication/index.html#requirements-tc\n"
     ]
    },
    {
     "name": "stdout",
     "output_type": "stream",
     "text": [
      "New embedding size: Embedding(57533, 1024)\n"
     ]
    }
   ],
   "source": [
    "# ignore the warning - CPU only\n",
    "new_emb = model.decoder.resize_token_embeddings(len(processor.tokenizer))\n",
    "print(f\"New embedding size: {new_emb}\")\n",
    "# Adjust our image size and output sequence lengths\n",
    "model.config.encoder.image_size = (720, 960)#(v for v in processor.image_processor.size.values()) # (height, width)\n",
    "model.config.decoder.max_length = 1  # test value only - we reset this later\n",
    "# Add task token for decoder to start\n",
    "model.config.pad_token_id = processor.tokenizer.pad_token_id\n",
    "model.config.decoder_start_token_id = processor.tokenizer.convert_tokens_to_ids(['<s>'])[0]"
   ]
  },
  {
   "cell_type": "code",
   "execution_count": 22,
   "id": "d6d194de",
   "metadata": {},
   "outputs": [],
   "source": [
    "task_embedding = processor.tokenizer(\n",
    "    \"<parsing>\",\n",
    "    add_special_tokens=False,\n",
    "    max_length=max_length,\n",
    "    padding=\"max_length\",\n",
    "    truncation=True,\n",
    "    return_tensors=\"pt\",\n",
    ")"
   ]
  },
  {
   "cell_type": "code",
   "execution_count": 42,
   "id": "2f9704db",
   "metadata": {},
   "outputs": [],
   "source": [
    "with torch.no_grad():\n",
    "    embeds = model.forward(pixel_values.unsqueeze(0), decoder_input_ids = task_embedding[\"input_ids\"])"
   ]
  },
  {
   "cell_type": "code",
   "execution_count": 78,
   "id": "0bf4271c",
   "metadata": {},
   "outputs": [],
   "source": [
    "vocab_dict = processor.tokenizer.get_vocab()\n",
    "vocab_lookup = {v:k for k,v in vocab_dict.items()}"
   ]
  },
  {
   "cell_type": "code",
   "execution_count": 94,
   "id": "4118c4a2",
   "metadata": {},
   "outputs": [],
   "source": [
    "# most likely token at each step for sanity checking\n",
    "most_probable_tokens = embeds.logits.softmax(dim=2).argmax(dim=2).squeeze(0)\n",
    "decoded = [vocab_lookup[token.item()] for token in most_probable_tokens]"
   ]
  },
  {
   "cell_type": "code",
   "execution_count": 96,
   "id": "88ae1d2b",
   "metadata": {},
   "outputs": [
    {
     "data": {
      "text/plain": [
       "'▁<>>>▁▁▁▁▁▁▁▁▁▁▁▁▁▁▁▁▁▁▁▁▁▁▁▁▁▁▁▁▁▁▁▁▁▁▁▁▁▁▁▁▁▁▁▁▁▁▁▁▁▁▁▁▁▁▁▁▁▁▁▁▁▁▁▁▁▁▁▁▁▁▁▁▁▁▁▁▁▁▁▁▁▁▁▁▁▁▁▁▁▁▁▁▁▁▁▁▁▁▁▁▁▁▁▁▁▁▁▁▁▁▁▁▁▁▁▁▁▁▁▁▁▁▁▁▁▁▁▁▁▁▁▁▁▁▁▁▁▁▁▁▁▁▁▁▁▁▁▁▁▁▁▁▁▁▁▁▁▁▁▁▁▁▁▁▁▁▁▁▁▁▁▁▁▁▁▁▁▁▁▁▁▁▁▁▁▁▁▁▁▁▁▁▁▁▁▁▁▁▁▁▁▁▁▁▁▁▁▁▁▁▁▁▁▁▁▁▁▁▁▁▁▁▁▁▁▁▁▁▁▁▁▁▁▁▁▁▁▁▁▁▁▁▁▁▁▁▁▁▁▁▁▁▁▁▁▁▁▁▁▁▁▁▁▁▁▁▁▁▁▁▁▁▁▁▁▁▁▁▁▁▁▁▁▁1▁▁▁▁1▁1▁▁▁▁▁1▁▁1▁1▁▁▁▁▁▁▁▁▁▁▁▁▁▁▁▁▁▁▁▁▁▁▁▁▁▁▁▁▁▁▁▁▁▁▁▁▁▁▁▁▁▁▁▁▁▁▁▁▁▁▁▁▁▁▁▁▁▁▁▁▁▁▁▁▁▁▁▁▁▁▁▁▁▁▁▁▁▁▁▁▁▁▁▁▁▁▁▁▁▁▁▁▁▁▁▁▁▁▁▁▁▁▁▁▁▁▁▁▁▁▁▁▁▁▁▁▁▁▁▁▁▁▁▁▁▁▁▁▁▁▁▁▁1▁1▁1▁▁1▁1▁1▁▁1▁1▁1▁1▁1▁1,▁1▁1▁1▁1▁1▁1▁1▁1▁1,,,,,,,,,,,,,,,,,,,,,,,,,,,,,,,,,,,,,,,,,,,,,,,,,,,,,,,'"
      ]
     },
     "execution_count": 96,
     "metadata": {},
     "output_type": "execute_result"
    }
   ],
   "source": [
    "\"\".join(decoded) # this seems wrong.... is it the wrong vocab (ie, decoded using the tokeniser vocab, not decoder vocab)"
   ]
  },
  {
   "cell_type": "code",
   "execution_count": 104,
   "id": "f6fdbd22",
   "metadata": {},
   "outputs": [
    {
     "data": {
      "text/plain": [
       "'<>>>111111111111111111,111111111,,,,,,,,,,,,,,,,,,,,,,,,,,,,,,,,,,,,,,,,,,,,,,,,,,,,,,,'"
      ]
     },
     "execution_count": 104,
     "metadata": {},
     "output_type": "execute_result"
    }
   ],
   "source": [
    "\"\".join(processor.batch_decode(most_probable_tokens)) # so \"_\" is a blank token, and not an underscore"
   ]
  },
  {
   "cell_type": "code",
   "execution_count": 98,
   "id": "b665b272",
   "metadata": {},
   "outputs": [
    {
     "name": "stderr",
     "output_type": "stream",
     "text": [
      "C:\\ProgramData\\Anaconda3\\lib\\site-packages\\transformers\\generation\\utils.py:1411: UserWarning: You have modified the pretrained model configuration to control generation. This is a deprecated strategy to control generation and will be removed soon, in a future version. Please use a generation configuration file (see https://huggingface.co/docs/transformers/main_classes/text_generation )\n",
      "  warnings.warn(\n",
      "C:\\ProgramData\\Anaconda3\\lib\\site-packages\\transformers\\generation\\utils.py:1262: UserWarning: Input length of decoder_input_ids is 512, but `max_length` is set to 1. This can lead to unexpected behavior. You should consider increasing `max_new_tokens`.\n",
      "  warnings.warn(\n"
     ]
    }
   ],
   "source": [
    "with torch.no_grad():\n",
    "    outputs = model.generate(pixel_values.unsqueeze(0),\n",
    "                             decoder_input_ids = task_embedding[\"input_ids\"])"
   ]
  },
  {
   "cell_type": "code",
   "execution_count": 99,
   "id": "9b3fcbc3",
   "metadata": {},
   "outputs": [
    {
     "data": {
      "text/plain": [
       "tensor([[41040, 33770, 49085, 34791,     1,     1,     1,     1,     1,     1,\n",
       "             1,     1,     1,     1,     1,     1,     1,     1,     1,     1,\n",
       "             1,     1,     1,     1,     1,     1,     1,     1,     1,     1,\n",
       "             1,     1,     1,     1,     1,     1,     1,     1,     1,     1,\n",
       "             1,     1,     1,     1,     1,     1,     1,     1,     1,     1,\n",
       "             1,     1,     1,     1,     1,     1,     1,     1,     1,     1,\n",
       "             1,     1,     1,     1,     1,     1,     1,     1,     1,     1,\n",
       "             1,     1,     1,     1,     1,     1,     1,     1,     1,     1,\n",
       "             1,     1,     1,     1,     1,     1,     1,     1,     1,     1,\n",
       "             1,     1,     1,     1,     1,     1,     1,     1,     1,     1,\n",
       "             1,     1,     1,     1,     1,     1,     1,     1,     1,     1,\n",
       "             1,     1,     1,     1,     1,     1,     1,     1,     1,     1,\n",
       "             1,     1,     1,     1,     1,     1,     1,     1,     1,     1,\n",
       "             1,     1,     1,     1,     1,     1,     1,     1,     1,     1,\n",
       "             1,     1,     1,     1,     1,     1,     1,     1,     1,     1,\n",
       "             1,     1,     1,     1,     1,     1,     1,     1,     1,     1,\n",
       "             1,     1,     1,     1,     1,     1,     1,     1,     1,     1,\n",
       "             1,     1,     1,     1,     1,     1,     1,     1,     1,     1,\n",
       "             1,     1,     1,     1,     1,     1,     1,     1,     1,     1,\n",
       "             1,     1,     1,     1,     1,     1,     1,     1,     1,     1,\n",
       "             1,     1,     1,     1,     1,     1,     1,     1,     1,     1,\n",
       "             1,     1,     1,     1,     1,     1,     1,     1,     1,     1,\n",
       "             1,     1,     1,     1,     1,     1,     1,     1,     1,     1,\n",
       "             1,     1,     1,     1,     1,     1,     1,     1,     1,     1,\n",
       "             1,     1,     1,     1,     1,     1,     1,     1,     1,     1,\n",
       "             1,     1,     1,     1,     1,     1,     1,     1,     1,     1,\n",
       "             1,     1,     1,     1,     1,     1,     1,     1,     1,     1,\n",
       "             1,     1,     1,     1,     1,     1,     1,     1,     1,     1,\n",
       "             1,     1,     1,     1,     1,     1,     1,     1,     1,     1,\n",
       "             1,     1,     1,     1,     1,     1,     1,     1,     1,     1,\n",
       "             1,     1,     1,     1,     1,     1,     1,     1,     1,     1,\n",
       "             1,     1,     1,     1,     1,     1,     1,     1,     1,     1,\n",
       "             1,     1,     1,     1,     1,     1,     1,     1,     1,     1,\n",
       "             1,     1,     1,     1,     1,     1,     1,     1,     1,     1,\n",
       "             1,     1,     1,     1,     1,     1,     1,     1,     1,     1,\n",
       "             1,     1,     1,     1,     1,     1,     1,     1,     1,     1,\n",
       "             1,     1,     1,     1,     1,     1,     1,     1,     1,     1,\n",
       "             1,     1,     1,     1,     1,     1,     1,     1,     1,     1,\n",
       "             1,     1,     1,     1,     1,     1,     1,     1,     1,     1,\n",
       "             1,     1,     1,     1,     1,     1,     1,     1,     1,     1,\n",
       "             1,     1,     1,     1,     1,     1,     1,     1,     1,     1,\n",
       "             1,     1,     1,     1,     1,     1,     1,     1,     1,     1,\n",
       "             1,     1,     1,     1,     1,     1,     1,     1,     1,     1,\n",
       "             1,     1,     1,     1,     1,     1,     1,     1,     1,     1,\n",
       "             1,     1,     1,     1,     1,     1,     1,     1,     1,     1,\n",
       "             1,     1,     1,     1,     1,     1,     1,     1,     1,     1,\n",
       "             1,     1,     1,     1,     1,     1,     1,     1,     1,     1,\n",
       "             1,     1,     1,     1,     1,     1,     1,     1,     1,     1,\n",
       "             1,     1,     1,     1,     1,     1,     1,     1,     1,     1,\n",
       "             1,     1,     1,     1,     1,     1,     1,     1,     1,     1,\n",
       "             1,     1,     1,     1,     1,     1,     1,     1,     1,     1,\n",
       "             1,     1, 35815]])"
      ]
     },
     "execution_count": 99,
     "metadata": {},
     "output_type": "execute_result"
    }
   ],
   "source": [
    "outputs"
   ]
  },
  {
   "cell_type": "code",
   "execution_count": 102,
   "id": "5e63baa1",
   "metadata": {},
   "outputs": [
    {
     "data": {
      "text/plain": [
       "'▁<parsing><pad><pad><pad><pad><pad><pad><pad><pad><pad><pad><pad><pad><pad><pad><pad><pad><pad><pad><pad><pad><pad><pad><pad><pad><pad><pad><pad><pad><pad><pad><pad><pad><pad><pad><pad><pad><pad><pad><pad><pad><pad><pad><pad><pad><pad><pad><pad><pad><pad><pad><pad><pad><pad><pad><pad><pad><pad><pad><pad><pad><pad><pad><pad><pad><pad><pad><pad><pad><pad><pad><pad><pad><pad><pad><pad><pad><pad><pad><pad><pad><pad><pad><pad><pad><pad><pad><pad><pad><pad><pad><pad><pad><pad><pad><pad><pad><pad><pad><pad><pad><pad><pad><pad><pad><pad><pad><pad><pad><pad><pad><pad><pad><pad><pad><pad><pad><pad><pad><pad><pad><pad><pad><pad><pad><pad><pad><pad><pad><pad><pad><pad><pad><pad><pad><pad><pad><pad><pad><pad><pad><pad><pad><pad><pad><pad><pad><pad><pad><pad><pad><pad><pad><pad><pad><pad><pad><pad><pad><pad><pad><pad><pad><pad><pad><pad><pad><pad><pad><pad><pad><pad><pad><pad><pad><pad><pad><pad><pad><pad><pad><pad><pad><pad><pad><pad><pad><pad><pad><pad><pad><pad><pad><pad><pad><pad><pad><pad><pad><pad><pad><pad><pad><pad><pad><pad><pad><pad><pad><pad><pad><pad><pad><pad><pad><pad><pad><pad><pad><pad><pad><pad><pad><pad><pad><pad><pad><pad><pad><pad><pad><pad><pad><pad><pad><pad><pad><pad><pad><pad><pad><pad><pad><pad><pad><pad><pad><pad><pad><pad><pad><pad><pad><pad><pad><pad><pad><pad><pad><pad><pad><pad><pad><pad><pad><pad><pad><pad><pad><pad><pad><pad><pad><pad><pad><pad><pad><pad><pad><pad><pad><pad><pad><pad><pad><pad><pad><pad><pad><pad><pad><pad><pad><pad><pad><pad><pad><pad><pad><pad><pad><pad><pad><pad><pad><pad><pad><pad><pad><pad><pad><pad><pad><pad><pad><pad><pad><pad><pad><pad><pad><pad><pad><pad><pad><pad><pad><pad><pad><pad><pad><pad><pad><pad><pad><pad><pad><pad><pad><pad><pad><pad><pad><pad><pad><pad><pad><pad><pad><pad><pad><pad><pad><pad><pad><pad><pad><pad><pad><pad><pad><pad><pad><pad><pad><pad><pad><pad><pad><pad><pad><pad><pad><pad><pad><pad><pad><pad><pad><pad><pad><pad><pad><pad><pad><pad><pad><pad><pad><pad><pad><pad><pad><pad><pad><pad><pad><pad><pad><pad><pad><pad><pad><pad><pad><pad><pad><pad><pad><pad><pad><pad><pad><pad><pad><pad><pad><pad><pad><pad><pad><pad><pad><pad><pad><pad><pad><pad><pad><pad><pad><pad><pad><pad><pad><pad><pad><pad><pad><pad><pad><pad><pad><pad><pad><pad><pad><pad><pad><pad><pad><pad><pad><pad><pad><pad><pad><pad><pad><pad><pad><pad><pad><pad><pad><pad><pad><pad><pad><pad><pad><pad><pad><pad><pad><pad><pad><pad><pad><pad><pad><pad><pad><pad><pad><pad><pad><pad><pad><pad><pad><pad><pad><pad><pad><pad><pad><pad><pad><pad><pad><pad><pad><pad><pad><pad><pad><pad><pad>,'"
      ]
     },
     "execution_count": 102,
     "metadata": {},
     "output_type": "execute_result"
    }
   ],
   "source": [
    "decoded_beam = [vocab_lookup[token.item()] for token in outputs.squeeze(0)]\n",
    "\"\".join(decoded_beam)"
   ]
  },
  {
   "cell_type": "code",
   "execution_count": 66,
   "id": "7b244193",
   "metadata": {},
   "outputs": [
    {
     "data": {
      "text/plain": [
       "['<parsing><pad><pad><pad><pad><pad><pad><pad><pad><pad><pad><pad><pad><pad><pad><pad><pad><pad><pad><pad><pad><pad><pad><pad><pad><pad><pad><pad><pad><pad><pad><pad><pad><pad><pad><pad><pad><pad><pad><pad><pad><pad><pad><pad><pad><pad><pad><pad><pad><pad><pad><pad><pad><pad><pad><pad><pad><pad><pad><pad><pad><pad><pad><pad><pad><pad><pad><pad><pad><pad><pad><pad><pad><pad><pad><pad><pad><pad><pad><pad><pad><pad><pad><pad><pad><pad><pad><pad><pad><pad><pad><pad><pad><pad><pad><pad><pad><pad><pad><pad><pad><pad><pad><pad><pad><pad><pad><pad><pad><pad><pad><pad><pad><pad><pad><pad><pad><pad><pad><pad><pad><pad><pad><pad><pad><pad><pad><pad><pad><pad><pad><pad><pad><pad><pad><pad><pad><pad><pad><pad><pad><pad><pad><pad><pad><pad><pad><pad><pad><pad><pad><pad><pad><pad><pad><pad><pad><pad><pad><pad><pad><pad><pad><pad><pad><pad><pad><pad><pad><pad><pad><pad><pad><pad><pad><pad><pad><pad><pad><pad><pad><pad><pad><pad><pad><pad><pad><pad><pad><pad><pad><pad><pad><pad><pad><pad><pad><pad><pad><pad><pad><pad><pad><pad><pad><pad><pad><pad><pad><pad><pad><pad><pad><pad><pad><pad><pad><pad><pad><pad><pad><pad><pad><pad><pad><pad><pad><pad><pad><pad><pad><pad><pad><pad><pad><pad><pad><pad><pad><pad><pad><pad><pad><pad><pad><pad><pad><pad><pad><pad><pad><pad><pad><pad><pad><pad><pad><pad><pad><pad><pad><pad><pad><pad><pad><pad><pad><pad><pad><pad><pad><pad><pad><pad><pad><pad><pad><pad><pad><pad><pad><pad><pad><pad><pad><pad><pad><pad><pad><pad><pad><pad><pad><pad><pad><pad><pad><pad><pad><pad><pad><pad><pad><pad><pad><pad><pad><pad><pad><pad><pad><pad><pad><pad><pad><pad><pad><pad><pad><pad><pad><pad><pad><pad><pad><pad><pad><pad><pad><pad><pad><pad><pad><pad><pad><pad><pad><pad><pad><pad><pad><pad><pad><pad><pad><pad><pad><pad><pad><pad><pad><pad><pad><pad><pad><pad><pad><pad><pad><pad><pad><pad><pad><pad><pad><pad><pad><pad><pad><pad><pad><pad><pad><pad><pad><pad><pad><pad><pad><pad><pad><pad><pad><pad><pad><pad><pad><pad><pad><pad><pad><pad><pad><pad><pad><pad><pad><pad><pad><pad><pad><pad><pad><pad><pad><pad><pad><pad><pad><pad><pad><pad><pad><pad><pad><pad><pad><pad><pad><pad><pad><pad><pad><pad><pad><pad><pad><pad><pad><pad><pad><pad><pad><pad><pad><pad><pad><pad><pad><pad><pad><pad><pad><pad><pad><pad><pad><pad><pad><pad><pad><pad><pad><pad><pad><pad><pad><pad><pad><pad><pad><pad><pad><pad><pad><pad><pad><pad><pad><pad><pad><pad><pad><pad><pad><pad><pad><pad><pad><pad><pad><pad><pad><pad><pad><pad><pad><pad><pad><pad><pad><pad><pad><pad><pad><pad><pad><pad><pad><pad><pad><pad><pad><pad><pad><pad><pad><pad><pad>,']"
      ]
     },
     "execution_count": 66,
     "metadata": {},
     "output_type": "execute_result"
    }
   ],
   "source": [
    "# process output\n",
    "prediction = processor.batch_decode(outputs)\n",
    "prediction # this also seems wrong... obtained using beam search and not a greedy token decoding method though"
   ]
  },
  {
   "cell_type": "markdown",
   "id": "0d22ed22",
   "metadata": {},
   "source": [
    "This is.... not promising - but it predicts end-to-end, so we move on"
   ]
  },
  {
   "cell_type": "markdown",
   "id": "62c96a0c",
   "metadata": {},
   "source": [
    "### Prepare for training"
   ]
  },
  {
   "cell_type": "code",
   "execution_count": null,
   "id": "89882a5d",
   "metadata": {},
   "outputs": [],
   "source": [
    "class DonutDataset(torch.utils.data.Dataset):\n",
    "    def __init__(self, dataset, processor):\n",
    "        self.dataset = dataset\n",
    "        self.processor = processor\n",
    "        # set the processor parameters\n",
    "        self.processor.image_processor.size = (250, 400)  # downsize for performance\n",
    "        self.processor.image_processor.do_align_long_axis = False\n",
    "        self.processor.tokenizer.add_special_tokens({\n",
    "            \"additional_special_tokens\": self.dataset.special_tokens + \n",
    "                                        [task_start_token, eos_token]})\n",
    "    \n",
    "    def __getitem__(self, idx):\n",
    "        pass\n",
    "    \n",
    "    def __len__(self):\n",
    "        return len(self.dataset)"
   ]
  }
 ],
 "metadata": {
  "kernelspec": {
   "display_name": "Python 3 (ipykernel)",
   "language": "python",
   "name": "python3"
  },
  "language_info": {
   "codemirror_mode": {
    "name": "ipython",
    "version": 3
   },
   "file_extension": ".py",
   "mimetype": "text/x-python",
   "name": "python",
   "nbconvert_exporter": "python",
   "pygments_lexer": "ipython3",
   "version": "3.9.7"
  }
 },
 "nbformat": 4,
 "nbformat_minor": 5
}
